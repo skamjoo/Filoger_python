{
 "cells": [
  {
   "cell_type": "markdown",
   "metadata": {},
   "source": [
    "<div>\n",
    "<h2 style=\"background-color:Purple;text-align:center;border-radius:40px;border: 1px;padding: 20px; color:white\"><b>Filoger Hands On Prerequisite Python For AI <br>Exercises 13 & 14 | Deadline: 2023 31 May <br> Score: 800</h2>\n",
    "</div>"
   ]
  },
  {
   "cell_type": "markdown",
   "metadata": {},
   "source": [
    "# Name"
   ]
  },
  {
   "cell_type": "code",
   "execution_count": 1,
   "metadata": {},
   "outputs": [],
   "source": [
    "# Saeedeh, Kamjoo"
   ]
  },
  {
   "cell_type": "markdown",
   "metadata": {},
   "source": [
    "<h3 style=\"background-color:#ff3300\n",
    ";text-align:center;border-radius:40px;border: 1px;padding: 10px;color:white\"><b>Exercises 13<br>Score: 500</h3>"
   ]
  },
  {
   "cell_type": "markdown",
   "metadata": {},
   "source": [
    "<h5 style=\"background-color:#1765e3;text-align:left;border-radius:40px;border: 1px;padding: 10px;color:white\"><b>1-Create a class Rectangle with attributes length and width and methods area(), perimeter() and display() for show length and width. Test your class by creating two objects and call attributes and methods for this objects. (200)</h5>"
   ]
  },
  {
   "cell_type": "code",
   "execution_count": 2,
   "metadata": {},
   "outputs": [],
   "source": [
    "class Rectangle:\n",
    "    def __init__(self, length, width):\n",
    "        self.length = length\n",
    "        self.width = width\n",
    "        \n",
    "    def area(self):\n",
    "        re_area = self.length * self.width\n",
    "        return re_area\n",
    "    \n",
    "    def perimeter(self):\n",
    "        re_per = 2*(self.length + self.width)\n",
    "        return re_per\n",
    "    \n",
    "    def display(self):\n",
    "        print(f'Length: {self.length}\\tWidth: {self.width}')"
   ]
  },
  {
   "cell_type": "code",
   "execution_count": 3,
   "metadata": {},
   "outputs": [
    {
     "name": "stdout",
     "output_type": "stream",
     "text": [
      "Area: 30\n",
      "-------------------------\n",
      "Perimeter: 22\n",
      "-------------------------\n",
      "Access to Attributes: 5, 6\n",
      "-------------------------\n",
      "Length: 5\tWidth: 6\n"
     ]
    }
   ],
   "source": [
    "r1 = Rectangle(5,6)\n",
    "\n",
    "print(f'Area: {r1.area()}')\n",
    "print(25 * \"-\")\n",
    "print(f'Perimeter: {r1.perimeter()}')\n",
    "print(25 * \"-\")\n",
    "print(f'Access to Attributes: {r1.length}, {r1.width}')\n",
    "print(25 * \"-\")\n",
    "r1.display()"
   ]
  },
  {
   "cell_type": "code",
   "execution_count": 4,
   "metadata": {},
   "outputs": [
    {
     "name": "stdout",
     "output_type": "stream",
     "text": [
      "Area: 40\n",
      "-------------------------\n",
      "Perimeter: 28\n",
      "-------------------------\n",
      "Access to Attributes: 10, 4\n",
      "-------------------------\n",
      "Length: 10\tWidth: 4\n"
     ]
    }
   ],
   "source": [
    "r2 = Rectangle(10,4)\n",
    "\n",
    "print(f'Area: {r2.area()}')\n",
    "print(25 * \"-\")\n",
    "print(f'Perimeter: {r2.perimeter()}')\n",
    "print(25 * \"-\")\n",
    "print(f'Access to Attributes: {r2.length}, {r2.width}')\n",
    "print(25 * \"-\")\n",
    "r2.display()"
   ]
  },
  {
   "cell_type": "markdown",
   "metadata": {},
   "source": [
    "<h5 style=\"background-color:#1765e3;text-align:left;border-radius:40px;border: 1px;padding: 10px;color:white\"><b>2- Create a BankAccountclass with 4 attributes and 4 methods as a following.   (300)</h5>"
   ]
  },
  {
   "cell_type": "markdown",
   "metadata": {},
   "source": [
    "Attributes:\n",
    "- account_number, account_type, holder_name, balance\n",
    "\n",
    "Methods:\n",
    "- deposit(amount) : get an amount and adds it to the account balance.\n",
    "- withdraw(amount): get an amount and subtracts it from the account balance.\n",
    "- get_balance(): show only current balance\n",
    "- get_all_info(): show all attributes\n",
    "\n",
    "Types of account:\n",
    "\n",
    "- Current account (حساب جاری)\n",
    "- Saving account (حساب پس انداز)\n",
    "- Checking account (حساب چکی)\n",
    "- Daily interest account (حساب بانکی بهره روزشمار)\n",
    "- Term deposite account (حساب سود سپرده)"
   ]
  },
  {
   "cell_type": "code",
   "execution_count": 5,
   "metadata": {},
   "outputs": [],
   "source": [
    "class BankAccountclass:\n",
    "    def __init__(self, account_number, account_type, holder_name, balance):\n",
    "        self.account_number = account_number\n",
    "        self.account_type = account_type\n",
    "        self.holder_name = holder_name\n",
    "        self.balance = balance\n",
    "        \n",
    "    def deposit(self,amount):\n",
    "        self.balance += amount\n",
    "#         return self.balance\n",
    "    \n",
    "    def withdraw(self,amount):\n",
    "        if amount > self.balance:\n",
    "            return f'Insufficient balance'\n",
    "        else:\n",
    "            self.balance -= amount\n",
    "#         return self.balance\n",
    "    \n",
    "    def get_balance(self):\n",
    "        return self.balance\n",
    "    \n",
    "    def get_all_info(self):\n",
    "        print(f'Account number: {self.account_number}\\nAccount type: {self.account_type}\\nHolder name: {self.holder_name}\\nBalance: {self.balance}')\n",
    "    \n",
    "        "
   ]
  },
  {
   "cell_type": "code",
   "execution_count": 6,
   "metadata": {},
   "outputs": [],
   "source": [
    "bank1 = BankAccountclass('982341', 'Daily interest account', 'sade', 5000)"
   ]
  },
  {
   "cell_type": "code",
   "execution_count": 7,
   "metadata": {},
   "outputs": [],
   "source": [
    "bank1.deposit(500)"
   ]
  },
  {
   "cell_type": "code",
   "execution_count": 8,
   "metadata": {},
   "outputs": [],
   "source": [
    "bank1.withdraw(700)"
   ]
  },
  {
   "cell_type": "code",
   "execution_count": 9,
   "metadata": {},
   "outputs": [
    {
     "data": {
      "text/plain": [
       "4800"
      ]
     },
     "execution_count": 9,
     "metadata": {},
     "output_type": "execute_result"
    }
   ],
   "source": [
    "bank1.get_balance()"
   ]
  },
  {
   "cell_type": "code",
   "execution_count": 10,
   "metadata": {},
   "outputs": [
    {
     "name": "stdout",
     "output_type": "stream",
     "text": [
      "Account number: 982341\n",
      "Account type: Daily interest account\n",
      "Holder name: sade\n",
      "Balance: 4800\n"
     ]
    }
   ],
   "source": [
    "bank1.get_all_info()"
   ]
  },
  {
   "cell_type": "markdown",
   "metadata": {},
   "source": [
    "<h3 style=\"background-color:#ff3300\n",
    ";text-align:center;border-radius:40px;border: 1px;padding: 10px;color:white\"><b>Exercise 14<br>Score: 300</h3>"
   ]
  },
  {
   "cell_type": "markdown",
   "metadata": {},
   "source": [
    "<h5 style=\"background-color:#1765e3;text-align:left;border-radius:40px;border: 1px;padding: 10px;color:white\"><b>1- Write a program such as CartShopping problem, but for book and library. Create two classes one of them for book and another for library, add some attributes and some methods for this classes. This program should be add book in library and display all of book. (300)</h5>"
   ]
  },
  {
   "cell_type": "code",
   "execution_count": 11,
   "metadata": {},
   "outputs": [],
   "source": [
    "class Book:\n",
    "    def __init__(self, title, author, publisher, isbn, topic, language, pages, price):\n",
    "        \n",
    "        self.title = title\n",
    "        self.author = author\n",
    "        self.publisher = publisher\n",
    "        self.isbn = isbn\n",
    "        self.topic = topic\n",
    "        self.language = language\n",
    "        self.pages = pages\n",
    "        self.price = price\n",
    "    \n",
    "    def get_title(self):\n",
    "        return self.title\n",
    "\n",
    "    def get_name(self):\n",
    "        print(f'Author: {self.author}')\n",
    "        \n",
    "    def get_publisher(self):\n",
    "        print(f'Pulisher: {self.publisher}')\n",
    "        \n",
    "    def get_isbn(self):\n",
    "        print(f'ISBN: {int(self.isbn)}')\n",
    "\n",
    "    def get_topic(self):\n",
    "        print(f'Topic: {self.topic}')\n",
    "        \n",
    "    def get_language(self):\n",
    "        print(f'language: {self.language}')\n",
    "\n",
    "    def get_pages(self):\n",
    "         print(f'Pages: {self.pages}')\n",
    "            \n",
    "    def get_price(self):\n",
    "         print(f'Price: {int(self.price)}')\n",
    "            \n",
    "    def get_all_info(self):\n",
    "        print(f'Title: {self.title}')\n",
    "        print(f'Author: {self.author}')\n",
    "        print(f'Pulisher: {self.publisher}')\n",
    "        print(f'ISBN: {int(self.isbn)}')\n",
    "        print(f'Topic: {self.topic}')\n",
    "        print(f'language: {self.language}')\n",
    "        print(f'Pages: {self.pages}')\n",
    "        print(f'Price: {int(self.price)}')"
   ]
  },
  {
   "cell_type": "code",
   "execution_count": 12,
   "metadata": {},
   "outputs": [],
   "source": [
    "class Library:\n",
    "    def __init__(self):\n",
    "        self.books = []\n",
    "\n",
    "    def add_book(self, book):\n",
    "        self.books.append(book)\n",
    "\n",
    "    def remove_book(self, book):\n",
    "        if book in self.books:\n",
    "            self.books.remove(book)\n",
    "        else:\n",
    "            print(f\"{book} is not in the library.\")\n",
    "\n",
    "    def get_books(self):\n",
    "        print(f'Books in the Library: {self.books}')\n",
    "\n",
    "    def search_by_title(self, title):\n",
    "        matching_books = []\n",
    "        for book in self.books:\n",
    "            if book.get_title() == title:\n",
    "                matching_books.append(book)\n",
    "        return matching_books\n",
    "    \n",
    "    def display(self):\n",
    "        number_books = [book.get_title() for book in self.books]\n",
    "        \n",
    "        return f\"Library has the following books: {number_books}\"   "
   ]
  },
  {
   "cell_type": "code",
   "execution_count": 13,
   "metadata": {},
   "outputs": [],
   "source": [
    "book1 = Book('t1', 'a1', 'p1', 131456743, 'novel', 'English', 257, 2500)\n",
    "book2 = Book('t2', 'a2', 'p2', 231455743, 'novel', 'English', 120, 200)\n",
    "book3 = Book('t3', 'a3', 'p3', 331455743, 'novel', 'English', 400, 3700)"
   ]
  },
  {
   "cell_type": "code",
   "execution_count": 14,
   "metadata": {},
   "outputs": [
    {
     "name": "stdout",
     "output_type": "stream",
     "text": [
      "Title: t1\n",
      "Author: a1\n",
      "Pulisher: p1\n",
      "ISBN: 131456743\n",
      "Topic: novel\n",
      "language: English\n",
      "Pages: 257\n",
      "Price: 2500\n"
     ]
    }
   ],
   "source": [
    "book1.get_all_info()"
   ]
  },
  {
   "cell_type": "code",
   "execution_count": 15,
   "metadata": {},
   "outputs": [],
   "source": [
    "l1 = Library()\n",
    "l1.add_book(book1)\n",
    "l1.add_book(book2)\n",
    "l1.add_book(book3)"
   ]
  },
  {
   "cell_type": "code",
   "execution_count": 16,
   "metadata": {},
   "outputs": [
    {
     "data": {
      "text/plain": [
       "\"Library has the following books: ['t1', 't2', 't3']\""
      ]
     },
     "execution_count": 16,
     "metadata": {},
     "output_type": "execute_result"
    }
   ],
   "source": [
    "l1.display()"
   ]
  }
 ],
 "metadata": {
  "kernelspec": {
   "display_name": "Python 3 (ipykernel)",
   "language": "python",
   "name": "python3"
  },
  "language_info": {
   "codemirror_mode": {
    "name": "ipython",
    "version": 3
   },
   "file_extension": ".py",
   "mimetype": "text/x-python",
   "name": "python",
   "nbconvert_exporter": "python",
   "pygments_lexer": "ipython3",
   "version": "3.9.7"
  }
 },
 "nbformat": 4,
 "nbformat_minor": 4
}
