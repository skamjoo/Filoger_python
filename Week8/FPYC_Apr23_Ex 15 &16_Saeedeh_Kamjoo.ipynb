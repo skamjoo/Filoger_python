{
 "cells": [
  {
   "cell_type": "markdown",
   "metadata": {},
   "source": [
    "<div>\n",
    "<h2 style=\"background-color:Purple;text-align:center;border-radius:40px;border: 1px;padding: 20px; color:white\"><b>Filoger Hands On Prerequisite Python For AI <br>Exercises 15 & 16 | Deadline: 2023 07 June <br> Score: 1200</h2>\n",
    "</div>"
   ]
  },
  {
   "cell_type": "markdown",
   "metadata": {},
   "source": [
    "# Name"
   ]
  },
  {
   "cell_type": "code",
   "execution_count": 1,
   "metadata": {},
   "outputs": [],
   "source": [
    "# Saeedeh, Kamjoo"
   ]
  },
  {
   "cell_type": "markdown",
   "metadata": {},
   "source": [
    "<h3 style=\"background-color:#ff3300\n",
    ";text-align:center;border-radius:40px;border: 1px;padding: 10px;color:white\"><b>Exercises 15<br>Score: 800</h3>"
   ]
  },
  {
   "cell_type": "markdown",
   "metadata": {},
   "source": [
    "<h5 style=\"background-color:#B100C2;text-align:left;border-radius:40px;border: 1px;padding: 10px;color:white\"><b>A- Write the school management project as follows.</h5>"
   ]
  },
  {
   "cell_type": "markdown",
   "metadata": {},
   "source": [
    "<h6 style=\"background-color:#1765e3;text-align:left;border-radius:40px;border: 1px;padding: 10px;color:white\"><b>\n",
    "\n",
    "1. The project includes two classes, school class and student class\n",
    "2. The school class contains two main attributes, a list to store students and a variable to specify\n",
    "the maximum number of students in the school\n",
    "3. The students class must contain at least four attributes.\n",
    "4. One of the attribute of each student is the student number, which we do not have duplicates.\n",
    "5. In this project, we should be able to display the operations of adding, deleting, editing,\n",
    "displaying the information of all students and searching for students in the school.\n",
    "6. Searching should be based on name (if there are multiple students with the same name, all of\n",
    "them will be displayed)\n",
    "7. The program should continue until the user enters \"exit\".</h6>"
   ]
  },
  {
   "cell_type": "code",
   "execution_count": 2,
   "metadata": {},
   "outputs": [],
   "source": [
    "from students import *\n",
    "from school import *"
   ]
  },
  {
   "cell_type": "code",
   "execution_count": 3,
   "metadata": {},
   "outputs": [
    {
     "name": "stdout",
     "output_type": "stream",
     "text": [
      "Please enter the maximum number of student: 5\n"
     ]
    }
   ],
   "source": [
    "# Create one object of School class\n",
    "\n",
    "max_num = int(input('Please enter the maximum number of student: '))\n",
    "obj = School(max_num)"
   ]
  },
  {
   "cell_type": "code",
   "execution_count": 4,
   "metadata": {},
   "outputs": [
    {
     "name": "stdout",
     "output_type": "stream",
     "text": [
      "Please select an option (add/remove/edit/search/display/exit): add\n",
      "Enter std_number, Firstname, Lastname, Age, and Score of a student: 123 Sara kaRimi 12 12\n",
      "added to the class\n",
      "Please select an option (add/remove/edit/search/display/exit): add\n",
      "Enter std_number, Firstname, Lastname, Age, and Score of a student: 456 saNaz BinA 13 13 \n",
      "added to the class\n",
      "Please select an option (add/remove/edit/search/display/exit): add\n",
      "Enter std_number, Firstname, Lastname, Age, and Score of a student: 789 sara Taheri 14 14\n",
      "added to the class\n",
      "Please select an option (add/remove/edit/search/display/exit): display\n",
      "The number_student  is: 123\n",
      "The first_name  is: Sara\n",
      "The last_name  is: Karimi\n",
      "The age  is: 12\n",
      "The grade are : 12\n",
      "--------------------------------------------------\n",
      "The number_student  is: 456\n",
      "The first_name  is: Sanaz\n",
      "The last_name  is: Bina\n",
      "The age  is: 13\n",
      "The grade are : 13\n",
      "--------------------------------------------------\n",
      "The number_student  is: 789\n",
      "The first_name  is: Sara\n",
      "The last_name  is: Taheri\n",
      "The age  is: 14\n",
      "The grade are : 14\n",
      "--------------------------------------------------\n",
      "Please select an option (add/remove/edit/search/display/exit): search\n",
      "Enter a name to search: sarA\n",
      "2 students with name 'Sara' were found.\n",
      "++++++++++++++++++++++++++++++++++++++++\n",
      "The number_student  is: 123\n",
      "The first_name  is: Sara\n",
      "The last_name  is: Karimi\n",
      "The age  is: 12\n",
      "The grade are : 12\n",
      "--------------------------------------------------\n",
      "The number_student  is: 789\n",
      "The first_name  is: Sara\n",
      "The last_name  is: Taheri\n",
      "The age  is: 14\n",
      "The grade are : 14\n",
      "--------------------------------------------------\n",
      "Please select an option (add/remove/edit/search/display/exit): exit\n"
     ]
    }
   ],
   "source": [
    "while True: \n",
    "    user = input(\"Please select an option (add/remove/edit/search/display/exit): \")\n",
    "    user = user.lower()\n",
    "    if user == \"add\":\n",
    "        student_info = input(\"Enter std_number, Firstname, Lastname, Age, and Score of a student: \")\n",
    "        info = student_info.split()\n",
    "        s1=Student(info[0],info[1].lower(),info[2].lower(), info[3], int(info[4]))\n",
    "        obj.add_student(s1)\n",
    "    elif user == \"remove\":\n",
    "        id_number=input(\"Enter a id_number to remove: \")\n",
    "        obj.remove(id_number)\n",
    "    elif user == \"edit\":\n",
    "        id_number=input(\"Enter a id_number to edit: \")\n",
    "        obj.edit(id_number)\n",
    "    elif user == \"search\":\n",
    "        name=input(\"Enter a name to search: \")\n",
    "        obj.search(name.lower())\n",
    "    elif user == \"display\":\n",
    "        obj.display()     \n",
    "    elif user == \"\":\n",
    "        pass\n",
    "    elif user == \"exit\":\n",
    "        break\n",
    "    else:\n",
    "        print(f\"{user}: command not found!\")"
   ]
  },
  {
   "cell_type": "markdown",
   "metadata": {},
   "source": [
    "<h3 style=\"background-color:#ff3300\n",
    ";text-align:center;border-radius:40px;border: 1px;padding: 10px;color:white\"><b>Exercise 16<br>Score: 400</h3>"
   ]
  },
  {
   "cell_type": "markdown",
   "metadata": {},
   "source": [
    "<h5 style=\"background-color:#B100C2;text-align:left;border-radius:40px;border: 1px;padding: 10px;color:white\"><b>Write sample codes for Inheritance, Encapsulation, Polymorphism, and\n",
    "Abstraction in Object-Oriented Programming.</h5>"
   ]
  },
  {
   "cell_type": "markdown",
   "metadata": {},
   "source": [
    "### Inheritance"
   ]
  },
  {
   "cell_type": "code",
   "execution_count": 5,
   "metadata": {},
   "outputs": [
    {
     "name": "stdout",
     "output_type": "stream",
     "text": [
      "Please enter the branch of your book: fiction\n",
      "Title: Gone girl\n",
      "Author:Gillian Flynn\n",
      "Genre: fiction\n"
     ]
    }
   ],
   "source": [
    "class Book:\n",
    "    def __init__(self, name, author):\n",
    "        self.name = name\n",
    "        self.author = author\n",
    "\n",
    "class Genres(Book):\n",
    "    def __init__(self, name, author):\n",
    "         Book.__init__(self, name, author)\n",
    "            \n",
    "    def branch(self):\n",
    "        branch_book = input('Please enter the branch of your book: ')\n",
    "        return f\"Genre: {branch_book}\"\n",
    "\n",
    "book1 = Genres('Gone girl', 'Gillian Flynn')\n",
    "branch1 = book1.branch()\n",
    "print(f'Title: {book1.name}')\n",
    "print(f'Author:{ book1.author}')\n",
    "print(branch1)"
   ]
  },
  {
   "cell_type": "markdown",
   "metadata": {},
   "source": [
    "### Encapsulation"
   ]
  },
  {
   "cell_type": "code",
   "execution_count": 6,
   "metadata": {},
   "outputs": [
    {
     "name": "stdout",
     "output_type": "stream",
     "text": [
      "1300\n"
     ]
    }
   ],
   "source": [
    "class BankAccount:\n",
    "    def __init__(self, account_number, balance):\n",
    "        self.__account_number = account_number\n",
    "        self.__balance = balance\n",
    "\n",
    "    def deposit(self, amount):\n",
    "        self.__balance += amount\n",
    "\n",
    "    def withdraw(self, amount):\n",
    "        if amount > self.__balance:\n",
    "            print(\"Insufficient balance\")\n",
    "        else:\n",
    "            self.__balance -= amount\n",
    "\n",
    "    def get_balance(self):\n",
    "        return self.__balance\n",
    "\n",
    "account = BankAccount(\"123456789\", 1000)\n",
    "\n",
    "# Trying to access private attributes directly will raise an AttributeError\n",
    "# print(account.__balance)  # This will raise an AttributeError\n",
    "\n",
    "# Instead, we would need to use the public methods of the class to interact with the private attributes\n",
    "account.deposit(500)\n",
    "account.withdraw(200)\n",
    "\n",
    "print(account.get_balance())"
   ]
  },
  {
   "cell_type": "markdown",
   "metadata": {},
   "source": [
    "### Polymorphism "
   ]
  },
  {
   "cell_type": "code",
   "execution_count": 7,
   "metadata": {},
   "outputs": [
    {
     "name": "stdout",
     "output_type": "stream",
     "text": [
      "Hapoo says Woof!\n",
      "Pashmak says Meow!\n"
     ]
    }
   ],
   "source": [
    "class Animal:\n",
    "    def __init__(self, name):\n",
    "        self.name = name\n",
    "\n",
    "    def speak(self):\n",
    "        pass\n",
    "\n",
    "class Dog(Animal):\n",
    "    def speak(self):\n",
    "        return \"Woof!\"\n",
    "\n",
    "class Cat(Animal):\n",
    "    def speak(self):\n",
    "        return \"Meow!\"\n",
    "\n",
    "def make_animal_speak(animal):\n",
    "    print(animal.name + \" says \" + animal.speak())\n",
    "\n",
    "dog = Dog(\"Hapoo\")\n",
    "cat = Cat(\"Pashmak\")\n",
    "\n",
    "make_animal_speak(dog)\n",
    "make_animal_speak(cat)"
   ]
  },
  {
   "cell_type": "markdown",
   "metadata": {},
   "source": [
    "### Abstraction"
   ]
  },
  {
   "cell_type": "code",
   "execution_count": 8,
   "metadata": {},
   "outputs": [
    {
     "name": "stdout",
     "output_type": "stream",
     "text": [
      "Area of shape: 50\n",
      "Area of shape: 28.26\n"
     ]
    }
   ],
   "source": [
    "from abc import ABC, abstractmethod\n",
    "\n",
    "class Shape(ABC):\n",
    "    @abstractmethod\n",
    "    def area(self):\n",
    "        pass\n",
    "\n",
    "class Rectangle(Shape):\n",
    "    def __init__(self, length, width):\n",
    "        self.length = length\n",
    "        self.width = width\n",
    "\n",
    "    def area(self):\n",
    "        return self.length * self.width\n",
    "\n",
    "class Circle(Shape):\n",
    "    def __init__(self, radius):\n",
    "        self.radius = radius\n",
    "\n",
    "    def area(self):\n",
    "        return 3.14 * self.radius ** 2\n",
    "\n",
    "shapes = [Rectangle(5, 10), Circle(3)]\n",
    "\n",
    "for shape in shapes:\n",
    "    print(\"Area of shape:\", shape.area())"
   ]
  },
  {
   "cell_type": "code",
   "execution_count": null,
   "metadata": {},
   "outputs": [],
   "source": []
  }
 ],
 "metadata": {
  "kernelspec": {
   "display_name": "tf",
   "language": "python",
   "name": "tf"
  },
  "language_info": {
   "codemirror_mode": {
    "name": "ipython",
    "version": 3
   },
   "file_extension": ".py",
   "mimetype": "text/x-python",
   "name": "python",
   "nbconvert_exporter": "python",
   "pygments_lexer": "ipython3",
   "version": "3.10.4"
  }
 },
 "nbformat": 4,
 "nbformat_minor": 4
}
